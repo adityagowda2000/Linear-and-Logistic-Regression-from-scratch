{
 "cells": [
  {
   "cell_type": "code",
   "execution_count": 1,
   "metadata": {
    "_cell_guid": "b1076dfc-b9ad-4769-8c92-a6c4dae69d19",
    "_uuid": "8f2839f25d086af736a60e9eeb907d3b93b6e0e5",
    "execution": {
     "iopub.execute_input": "2022-09-07T12:21:33.625045Z",
     "iopub.status.busy": "2022-09-07T12:21:33.624329Z",
     "iopub.status.idle": "2022-09-07T12:21:33.630334Z",
     "shell.execute_reply": "2022-09-07T12:21:33.629420Z",
     "shell.execute_reply.started": "2022-09-07T12:21:33.624967Z"
    }
   },
   "outputs": [],
   "source": [
    "import numpy as np\n",
    "import os\n",
    "import time"
   ]
  },
  {
   "cell_type": "code",
   "execution_count": 2,
   "metadata": {
    "execution": {
     "iopub.execute_input": "2022-09-07T12:21:33.633342Z",
     "iopub.status.busy": "2022-09-07T12:21:33.632620Z",
     "iopub.status.idle": "2022-09-07T12:21:33.646371Z",
     "shell.execute_reply": "2022-09-07T12:21:33.645014Z",
     "shell.execute_reply.started": "2022-09-07T12:21:33.633297Z"
    }
   },
   "outputs": [
    {
     "name": "stdout",
     "output_type": "stream",
     "text": [
      "[1. 2. 3. 4. 5. 6.]\n"
     ]
    }
   ],
   "source": [
    "a = np.array([1, 2, 3, 4, 5, 6.0])\n",
    "print(a)"
   ]
  },
  {
   "cell_type": "code",
   "execution_count": 3,
   "metadata": {
    "execution": {
     "iopub.execute_input": "2022-09-07T12:21:33.649125Z",
     "iopub.status.busy": "2022-09-07T12:21:33.648229Z",
     "iopub.status.idle": "2022-09-07T12:21:33.660667Z",
     "shell.execute_reply": "2022-09-07T12:21:33.659340Z",
     "shell.execute_reply.started": "2022-09-07T12:21:33.649076Z"
    }
   },
   "outputs": [
    {
     "name": "stdout",
     "output_type": "stream",
     "text": [
      "[[ 1  2  3  4]\n",
      " [ 5  6  7  8]\n",
      " [ 9 10 11 12]]\n"
     ]
    }
   ],
   "source": [
    "a = np.array([[1, 2, 3, 4], [5, 6, 7, 8], [9, 10, 11, 12]])\n",
    "print(a)"
   ]
  },
  {
   "cell_type": "code",
   "execution_count": 4,
   "metadata": {
    "execution": {
     "iopub.execute_input": "2022-09-07T12:21:33.664689Z",
     "iopub.status.busy": "2022-09-07T12:21:33.663709Z",
     "iopub.status.idle": "2022-09-07T12:21:33.673796Z",
     "shell.execute_reply": "2022-09-07T12:21:33.672534Z",
     "shell.execute_reply.started": "2022-09-07T12:21:33.664636Z"
    }
   },
   "outputs": [
    {
     "name": "stdout",
     "output_type": "stream",
     "text": [
      "(3, 4)\n",
      "2\n",
      "12\n"
     ]
    }
   ],
   "source": [
    "# explain about dimension of the array\n",
    "print(a.shape)\n",
    "print(a.ndim)\n",
    "print(a.size)"
   ]
  },
  {
   "cell_type": "code",
   "execution_count": 5,
   "metadata": {
    "execution": {
     "iopub.execute_input": "2022-09-07T12:21:33.676461Z",
     "iopub.status.busy": "2022-09-07T12:21:33.675695Z",
     "iopub.status.idle": "2022-09-07T12:21:33.687436Z",
     "shell.execute_reply": "2022-09-07T12:21:33.686201Z",
     "shell.execute_reply.started": "2022-09-07T12:21:33.676415Z"
    }
   },
   "outputs": [
    {
     "name": "stdout",
     "output_type": "stream",
     "text": [
      "[[0. 0. 0.]\n",
      " [0. 0. 0.]]\n"
     ]
    }
   ],
   "source": [
    "a = np.zeros((2, 3))\n",
    "print(a)"
   ]
  },
  {
   "cell_type": "code",
   "execution_count": 6,
   "metadata": {
    "execution": {
     "iopub.execute_input": "2022-09-07T12:21:33.690089Z",
     "iopub.status.busy": "2022-09-07T12:21:33.689145Z",
     "iopub.status.idle": "2022-09-07T12:21:33.700215Z",
     "shell.execute_reply": "2022-09-07T12:21:33.699082Z",
     "shell.execute_reply.started": "2022-09-07T12:21:33.690038Z"
    }
   },
   "outputs": [
    {
     "name": "stdout",
     "output_type": "stream",
     "text": [
      "[[1. 1. 1.]\n",
      " [1. 1. 1.]]\n"
     ]
    }
   ],
   "source": [
    "a = np.ones((2, 3))\n",
    "print(a)"
   ]
  },
  {
   "cell_type": "code",
   "execution_count": 7,
   "metadata": {
    "execution": {
     "iopub.execute_input": "2022-09-07T12:21:33.702412Z",
     "iopub.status.busy": "2022-09-07T12:21:33.701514Z",
     "iopub.status.idle": "2022-09-07T12:21:33.714765Z",
     "shell.execute_reply": "2022-09-07T12:21:33.713297Z",
     "shell.execute_reply.started": "2022-09-07T12:21:33.702374Z"
    }
   },
   "outputs": [
    {
     "name": "stdout",
     "output_type": "stream",
     "text": [
      "[0 1 2 3 4 5 6]\n"
     ]
    }
   ],
   "source": [
    "a = np.arange(7)\n",
    "print(a)\n",
    "\n",
    "# [0, 3, 6, 9]"
   ]
  },
  {
   "cell_type": "code",
   "execution_count": 33,
   "metadata": {
    "execution": {
     "iopub.execute_input": "2022-09-07T12:21:33.717302Z",
     "iopub.status.busy": "2022-09-07T12:21:33.716644Z",
     "iopub.status.idle": "2022-09-07T12:21:33.725610Z",
     "shell.execute_reply": "2022-09-07T12:21:33.724651Z",
     "shell.execute_reply.started": "2022-09-07T12:21:33.717255Z"
    }
   },
   "outputs": [
    {
     "name": "stdout",
     "output_type": "stream",
     "text": [
      "[2 3 4 5 6 7 8]\n"
     ]
    }
   ],
   "source": [
    "# start, stop, step\n",
    "a = np.arange(2, 9, 1)\n",
    "print(a)"
   ]
  },
  {
   "cell_type": "code",
   "execution_count": 34,
   "metadata": {
    "execution": {
     "iopub.execute_input": "2022-09-07T12:21:33.730936Z",
     "iopub.status.busy": "2022-09-07T12:21:33.730047Z",
     "iopub.status.idle": "2022-09-07T12:21:33.738601Z",
     "shell.execute_reply": "2022-09-07T12:21:33.737624Z",
     "shell.execute_reply.started": "2022-09-07T12:21:33.730881Z"
    }
   },
   "outputs": [
    {
     "name": "stdout",
     "output_type": "stream",
     "text": [
      "[2 3 4 5 6 7 8]\n"
     ]
    }
   ],
   "source": [
    "#a = np.sort(a)\n",
    "a.sort()\n",
    "print(a)"
   ]
  },
  {
   "cell_type": "code",
   "execution_count": 10,
   "metadata": {
    "execution": {
     "iopub.execute_input": "2022-09-07T12:21:33.741026Z",
     "iopub.status.busy": "2022-09-07T12:21:33.740156Z",
     "iopub.status.idle": "2022-09-07T12:21:33.753148Z",
     "shell.execute_reply": "2022-09-07T12:21:33.750804Z",
     "shell.execute_reply.started": "2022-09-07T12:21:33.740952Z"
    }
   },
   "outputs": [
    {
     "name": "stdout",
     "output_type": "stream",
     "text": [
      "[[ 1  2]\n",
      " [ 3  4]\n",
      " [10 11]\n",
      " [ 5  6]\n",
      " [ 7  8]]\n"
     ]
    }
   ],
   "source": [
    "#explain concatenate\n",
    "\n",
    "x = np.array([[1, 2], [3, 4], [10, 11]])\n",
    "y = np.array([[5, 6], [7, 8]])\n",
    "z = np.concatenate((x, y), axis = 0)\n",
    "print(z)\n",
    "\n",
    "# put axis = 1 and show the output"
   ]
  },
  {
   "cell_type": "code",
   "execution_count": 11,
   "metadata": {
    "execution": {
     "iopub.execute_input": "2022-09-07T12:21:33.755469Z",
     "iopub.status.busy": "2022-09-07T12:21:33.754773Z",
     "iopub.status.idle": "2022-09-07T12:21:33.770972Z",
     "shell.execute_reply": "2022-09-07T12:21:33.769670Z",
     "shell.execute_reply.started": "2022-09-07T12:21:33.755412Z"
    }
   },
   "outputs": [
    {
     "name": "stdout",
     "output_type": "stream",
     "text": [
      "[0 1 2 3 4 5]\n",
      "[[0 1 2]\n",
      " [3 4 5]]\n"
     ]
    }
   ],
   "source": [
    "a = np.arange(6)\n",
    "print(a)\n",
    "\n",
    "b = a.reshape(2, 3)\n",
    "print(b)\n",
    "\n",
    "# a.reshape(3, 3) won't be possible but a.reshape(3, -1) will be equivalent to dividing a into 3 equal rows that is a.reshape(3, 2)."
   ]
  },
  {
   "cell_type": "code",
   "execution_count": 12,
   "metadata": {
    "execution": {
     "iopub.execute_input": "2022-09-07T12:21:33.773865Z",
     "iopub.status.busy": "2022-09-07T12:21:33.772922Z",
     "iopub.status.idle": "2022-09-07T12:21:33.786227Z",
     "shell.execute_reply": "2022-09-07T12:21:33.784613Z",
     "shell.execute_reply.started": "2022-09-07T12:21:33.773821Z"
    }
   },
   "outputs": [
    {
     "name": "stdout",
     "output_type": "stream",
     "text": [
      "[1 2]\n",
      "[1 2 3]\n",
      "[[ 1  0]\n",
      " [ 0  1]\n",
      " [-2  1]]\n"
     ]
    }
   ],
   "source": [
    "# slice operation\n",
    "a = np.array([1, 2, 3])\n",
    "b = a[0 : 2]\n",
    "print(b)\n",
    "\n",
    "c = a[0 : ]\n",
    "print(c)\n",
    "\n",
    "a = np.array([[-1, 0, 1, 0],[2, -3, 0, 1],[0, 4, -2, 1]])\n",
    "print(a[0:3, 2:4])\n",
    "\n",
    "# [-1 0 1 0]\n",
    "# [2 -3 0 1]\n",
    "# [0 4 -2 1]"
   ]
  },
  {
   "cell_type": "code",
   "execution_count": 13,
   "metadata": {
    "execution": {
     "iopub.execute_input": "2022-09-07T12:21:33.788170Z",
     "iopub.status.busy": "2022-09-07T12:21:33.787749Z",
     "iopub.status.idle": "2022-09-07T12:21:33.799790Z",
     "shell.execute_reply": "2022-09-07T12:21:33.798526Z",
     "shell.execute_reply.started": "2022-09-07T12:21:33.788134Z"
    }
   },
   "outputs": [
    {
     "name": "stdout",
     "output_type": "stream",
     "text": [
      "[ 7 -5 -1 -1  8 -2]\n"
     ]
    }
   ],
   "source": [
    "a = np.array([1,8,3,2,1,9,7])\n",
    "b = a[1:] - a[:-1]\n",
    "print(b)\n",
    "\n",
    "# Vector of first differences. Here we use slicing to create an (n − 1)-vector d which is defined as the first difference vector di = xi+1 − xi\n",
    "# for i = 1, . . . , n − 1, where x is an n-vector."
   ]
  },
  {
   "cell_type": "code",
   "execution_count": 14,
   "metadata": {
    "execution": {
     "iopub.execute_input": "2022-09-07T12:21:33.804932Z",
     "iopub.status.busy": "2022-09-07T12:21:33.804535Z",
     "iopub.status.idle": "2022-09-07T12:21:33.812648Z",
     "shell.execute_reply": "2022-09-07T12:21:33.811439Z",
     "shell.execute_reply.started": "2022-09-07T12:21:33.804898Z"
    }
   },
   "outputs": [
    {
     "name": "stdout",
     "output_type": "stream",
     "text": [
      "[2 3 4]\n"
     ]
    }
   ],
   "source": [
    "# data = np.array([1, 2, 3, 4])\n",
    "# ones = np.ones(1, dtype = int)\n",
    "# print(ones)\n",
    "# print(data + ones)\n",
    "\n",
    "# it will broadcast the 1's to all the elements of data.\n",
    "\n",
    "# data = np.array([1, 2])\n",
    "# ones = np.ones(2, dtype = int)\n",
    "# print(ones)\n",
    "# print(data + ones)\n",
    "\n",
    "# size of array ones is equal to size of array data, so direct addition will happen\n",
    "\n",
    "# this will give error because size of ones is greater than data array size\n",
    "data = np.array([1, 2, 3])\n",
    "ones = np.ones(3, dtype = int)\n",
    "print(data + ones)"
   ]
  },
  {
   "cell_type": "code",
   "execution_count": 15,
   "metadata": {
    "execution": {
     "iopub.execute_input": "2022-09-07T12:21:33.814958Z",
     "iopub.status.busy": "2022-09-07T12:21:33.814109Z",
     "iopub.status.idle": "2022-09-07T12:21:33.827132Z",
     "shell.execute_reply": "2022-09-07T12:21:33.825745Z",
     "shell.execute_reply.started": "2022-09-07T12:21:33.814920Z"
    }
   },
   "outputs": [
    {
     "name": "stdout",
     "output_type": "stream",
     "text": [
      "[1.6 3.2]\n"
     ]
    }
   ],
   "source": [
    "data = np.array([1.0, 2.0])\n",
    "print(data * 1.6)"
   ]
  },
  {
   "cell_type": "code",
   "execution_count": 16,
   "metadata": {
    "execution": {
     "iopub.execute_input": "2022-09-07T12:21:33.829271Z",
     "iopub.status.busy": "2022-09-07T12:21:33.828698Z",
     "iopub.status.idle": "2022-09-07T12:21:33.840924Z",
     "shell.execute_reply": "2022-09-07T12:21:33.839501Z",
     "shell.execute_reply.started": "2022-09-07T12:21:33.829224Z"
    }
   },
   "outputs": [
    {
     "name": "stdout",
     "output_type": "stream",
     "text": [
      "[[ 1  5  9  1]\n",
      " [ 2  6 10  2]\n",
      " [ 3  7 11  3]\n",
      " [ 4  8 12  4]]\n"
     ]
    }
   ],
   "source": [
    "a = np.array([[1, 2, 3, 4], [5, 6, 7, 8], [9, 10, 11, 12], [1, 2, 3, 4]])\n",
    "b = np.transpose(a)\n",
    "print(b)"
   ]
  },
  {
   "cell_type": "code",
   "execution_count": 17,
   "metadata": {
    "execution": {
     "iopub.execute_input": "2022-09-07T12:21:33.843269Z",
     "iopub.status.busy": "2022-09-07T12:21:33.842408Z",
     "iopub.status.idle": "2022-09-07T12:21:33.856812Z",
     "shell.execute_reply": "2022-09-07T12:21:33.855664Z",
     "shell.execute_reply.started": "2022-09-07T12:21:33.843229Z"
    }
   },
   "outputs": [
    {
     "name": "stdout",
     "output_type": "stream",
     "text": [
      "1\n"
     ]
    }
   ],
   "source": [
    "a = np.array([[1 , 2, 3, 4], [5, 6, 7, 8], [9, 10, 11, 12]])\n",
    "b = a.flatten()\n",
    "b[0] = 13\n",
    "print(a[0][0])\n"
   ]
  },
  {
   "cell_type": "code",
   "execution_count": 18,
   "metadata": {
    "execution": {
     "iopub.execute_input": "2022-09-07T12:21:33.859391Z",
     "iopub.status.busy": "2022-09-07T12:21:33.858532Z",
     "iopub.status.idle": "2022-09-07T12:21:33.872291Z",
     "shell.execute_reply": "2022-09-07T12:21:33.870722Z",
     "shell.execute_reply.started": "2022-09-07T12:21:33.859325Z"
    }
   },
   "outputs": [
    {
     "name": "stdout",
     "output_type": "stream",
     "text": [
      "[ 1  2  3  4  5  6  7  8  9 10 11 12]\n",
      "14\n"
     ]
    }
   ],
   "source": [
    "# ravel() is same as flatten() but now changes in the element of b will also be changed in array a\n",
    "b = a.ravel()\n",
    "print(b)\n",
    "\n",
    "b[0] = 13\n",
    "a[0][0] = 14 \n",
    "print(b[0])"
   ]
  },
  {
   "cell_type": "code",
   "execution_count": 35,
   "metadata": {
    "execution": {
     "iopub.execute_input": "2022-09-07T12:21:33.875125Z",
     "iopub.status.busy": "2022-09-07T12:21:33.874153Z",
     "iopub.status.idle": "2022-09-07T12:21:33.885932Z",
     "shell.execute_reply": "2022-09-07T12:21:33.884370Z",
     "shell.execute_reply.started": "2022-09-07T12:21:33.875075Z"
    }
   },
   "outputs": [
    {
     "name": "stdout",
     "output_type": "stream",
     "text": [
      "(9, 7, 9, 3)\n",
      "[[[[4. 4. 4.]\n",
      "   [4. 4. 4.]\n",
      "   [4. 4. 4.]\n",
      "   ...\n",
      "   [4. 4. 4.]\n",
      "   [4. 4. 4.]\n",
      "   [4. 4. 4.]]\n",
      "\n",
      "  [[4. 4. 4.]\n",
      "   [4. 4. 4.]\n",
      "   [4. 4. 4.]\n",
      "   ...\n",
      "   [4. 4. 4.]\n",
      "   [4. 4. 4.]\n",
      "   [4. 4. 4.]]\n",
      "\n",
      "  [[4. 4. 4.]\n",
      "   [4. 4. 4.]\n",
      "   [4. 4. 4.]\n",
      "   ...\n",
      "   [4. 4. 4.]\n",
      "   [4. 4. 4.]\n",
      "   [4. 4. 4.]]\n",
      "\n",
      "  ...\n",
      "\n",
      "  [[4. 4. 4.]\n",
      "   [4. 4. 4.]\n",
      "   [4. 4. 4.]\n",
      "   ...\n",
      "   [4. 4. 4.]\n",
      "   [4. 4. 4.]\n",
      "   [4. 4. 4.]]\n",
      "\n",
      "  [[4. 4. 4.]\n",
      "   [4. 4. 4.]\n",
      "   [4. 4. 4.]\n",
      "   ...\n",
      "   [4. 4. 4.]\n",
      "   [4. 4. 4.]\n",
      "   [4. 4. 4.]]\n",
      "\n",
      "  [[4. 4. 4.]\n",
      "   [4. 4. 4.]\n",
      "   [4. 4. 4.]\n",
      "   ...\n",
      "   [4. 4. 4.]\n",
      "   [4. 4. 4.]\n",
      "   [4. 4. 4.]]]\n",
      "\n",
      "\n",
      " [[[4. 4. 4.]\n",
      "   [4. 4. 4.]\n",
      "   [4. 4. 4.]\n",
      "   ...\n",
      "   [4. 4. 4.]\n",
      "   [4. 4. 4.]\n",
      "   [4. 4. 4.]]\n",
      "\n",
      "  [[4. 4. 4.]\n",
      "   [4. 4. 4.]\n",
      "   [4. 4. 4.]\n",
      "   ...\n",
      "   [4. 4. 4.]\n",
      "   [4. 4. 4.]\n",
      "   [4. 4. 4.]]\n",
      "\n",
      "  [[4. 4. 4.]\n",
      "   [4. 4. 4.]\n",
      "   [4. 4. 4.]\n",
      "   ...\n",
      "   [4. 4. 4.]\n",
      "   [4. 4. 4.]\n",
      "   [4. 4. 4.]]\n",
      "\n",
      "  ...\n",
      "\n",
      "  [[4. 4. 4.]\n",
      "   [4. 4. 4.]\n",
      "   [4. 4. 4.]\n",
      "   ...\n",
      "   [4. 4. 4.]\n",
      "   [4. 4. 4.]\n",
      "   [4. 4. 4.]]\n",
      "\n",
      "  [[4. 4. 4.]\n",
      "   [4. 4. 4.]\n",
      "   [4. 4. 4.]\n",
      "   ...\n",
      "   [4. 4. 4.]\n",
      "   [4. 4. 4.]\n",
      "   [4. 4. 4.]]\n",
      "\n",
      "  [[4. 4. 4.]\n",
      "   [4. 4. 4.]\n",
      "   [4. 4. 4.]\n",
      "   ...\n",
      "   [4. 4. 4.]\n",
      "   [4. 4. 4.]\n",
      "   [4. 4. 4.]]]\n",
      "\n",
      "\n",
      " [[[4. 4. 4.]\n",
      "   [4. 4. 4.]\n",
      "   [4. 4. 4.]\n",
      "   ...\n",
      "   [4. 4. 4.]\n",
      "   [4. 4. 4.]\n",
      "   [4. 4. 4.]]\n",
      "\n",
      "  [[4. 4. 4.]\n",
      "   [4. 4. 4.]\n",
      "   [4. 4. 4.]\n",
      "   ...\n",
      "   [4. 4. 4.]\n",
      "   [4. 4. 4.]\n",
      "   [4. 4. 4.]]\n",
      "\n",
      "  [[4. 4. 4.]\n",
      "   [4. 4. 4.]\n",
      "   [4. 4. 4.]\n",
      "   ...\n",
      "   [4. 4. 4.]\n",
      "   [4. 4. 4.]\n",
      "   [4. 4. 4.]]\n",
      "\n",
      "  ...\n",
      "\n",
      "  [[4. 4. 4.]\n",
      "   [4. 4. 4.]\n",
      "   [4. 4. 4.]\n",
      "   ...\n",
      "   [4. 4. 4.]\n",
      "   [4. 4. 4.]\n",
      "   [4. 4. 4.]]\n",
      "\n",
      "  [[4. 4. 4.]\n",
      "   [4. 4. 4.]\n",
      "   [4. 4. 4.]\n",
      "   ...\n",
      "   [4. 4. 4.]\n",
      "   [4. 4. 4.]\n",
      "   [4. 4. 4.]]\n",
      "\n",
      "  [[4. 4. 4.]\n",
      "   [4. 4. 4.]\n",
      "   [4. 4. 4.]\n",
      "   ...\n",
      "   [4. 4. 4.]\n",
      "   [4. 4. 4.]\n",
      "   [4. 4. 4.]]]\n",
      "\n",
      "\n",
      " ...\n",
      "\n",
      "\n",
      " [[[4. 4. 4.]\n",
      "   [4. 4. 4.]\n",
      "   [4. 4. 4.]\n",
      "   ...\n",
      "   [4. 4. 4.]\n",
      "   [4. 4. 4.]\n",
      "   [4. 4. 4.]]\n",
      "\n",
      "  [[4. 4. 4.]\n",
      "   [4. 4. 4.]\n",
      "   [4. 4. 4.]\n",
      "   ...\n",
      "   [4. 4. 4.]\n",
      "   [4. 4. 4.]\n",
      "   [4. 4. 4.]]\n",
      "\n",
      "  [[4. 4. 4.]\n",
      "   [4. 4. 4.]\n",
      "   [4. 4. 4.]\n",
      "   ...\n",
      "   [4. 4. 4.]\n",
      "   [4. 4. 4.]\n",
      "   [4. 4. 4.]]\n",
      "\n",
      "  ...\n",
      "\n",
      "  [[4. 4. 4.]\n",
      "   [4. 4. 4.]\n",
      "   [4. 4. 4.]\n",
      "   ...\n",
      "   [4. 4. 4.]\n",
      "   [4. 4. 4.]\n",
      "   [4. 4. 4.]]\n",
      "\n",
      "  [[4. 4. 4.]\n",
      "   [4. 4. 4.]\n",
      "   [4. 4. 4.]\n",
      "   ...\n",
      "   [4. 4. 4.]\n",
      "   [4. 4. 4.]\n",
      "   [4. 4. 4.]]\n",
      "\n",
      "  [[4. 4. 4.]\n",
      "   [4. 4. 4.]\n",
      "   [4. 4. 4.]\n",
      "   ...\n",
      "   [4. 4. 4.]\n",
      "   [4. 4. 4.]\n",
      "   [4. 4. 4.]]]\n",
      "\n",
      "\n",
      " [[[4. 4. 4.]\n",
      "   [4. 4. 4.]\n",
      "   [4. 4. 4.]\n",
      "   ...\n",
      "   [4. 4. 4.]\n",
      "   [4. 4. 4.]\n",
      "   [4. 4. 4.]]\n",
      "\n",
      "  [[4. 4. 4.]\n",
      "   [4. 4. 4.]\n",
      "   [4. 4. 4.]\n",
      "   ...\n",
      "   [4. 4. 4.]\n",
      "   [4. 4. 4.]\n",
      "   [4. 4. 4.]]\n",
      "\n",
      "  [[4. 4. 4.]\n",
      "   [4. 4. 4.]\n",
      "   [4. 4. 4.]\n",
      "   ...\n",
      "   [4. 4. 4.]\n",
      "   [4. 4. 4.]\n",
      "   [4. 4. 4.]]\n",
      "\n",
      "  ...\n",
      "\n",
      "  [[4. 4. 4.]\n",
      "   [4. 4. 4.]\n",
      "   [4. 4. 4.]\n",
      "   ...\n",
      "   [4. 4. 4.]\n",
      "   [4. 4. 4.]\n",
      "   [4. 4. 4.]]\n",
      "\n",
      "  [[4. 4. 4.]\n",
      "   [4. 4. 4.]\n",
      "   [4. 4. 4.]\n",
      "   ...\n",
      "   [4. 4. 4.]\n",
      "   [4. 4. 4.]\n",
      "   [4. 4. 4.]]\n",
      "\n",
      "  [[4. 4. 4.]\n",
      "   [4. 4. 4.]\n",
      "   [4. 4. 4.]\n",
      "   ...\n",
      "   [4. 4. 4.]\n",
      "   [4. 4. 4.]\n",
      "   [4. 4. 4.]]]\n",
      "\n",
      "\n",
      " [[[4. 4. 4.]\n",
      "   [4. 4. 4.]\n",
      "   [4. 4. 4.]\n",
      "   ...\n",
      "   [4. 4. 4.]\n",
      "   [4. 4. 4.]\n",
      "   [4. 4. 4.]]\n",
      "\n",
      "  [[4. 4. 4.]\n",
      "   [4. 4. 4.]\n",
      "   [4. 4. 4.]\n",
      "   ...\n",
      "   [4. 4. 4.]\n",
      "   [4. 4. 4.]\n",
      "   [4. 4. 4.]]\n",
      "\n",
      "  [[4. 4. 4.]\n",
      "   [4. 4. 4.]\n",
      "   [4. 4. 4.]\n",
      "   ...\n",
      "   [4. 4. 4.]\n",
      "   [4. 4. 4.]\n",
      "   [4. 4. 4.]]\n",
      "\n",
      "  ...\n",
      "\n",
      "  [[4. 4. 4.]\n",
      "   [4. 4. 4.]\n",
      "   [4. 4. 4.]\n",
      "   ...\n",
      "   [4. 4. 4.]\n",
      "   [4. 4. 4.]\n",
      "   [4. 4. 4.]]\n",
      "\n",
      "  [[4. 4. 4.]\n",
      "   [4. 4. 4.]\n",
      "   [4. 4. 4.]\n",
      "   ...\n",
      "   [4. 4. 4.]\n",
      "   [4. 4. 4.]\n",
      "   [4. 4. 4.]]\n",
      "\n",
      "  [[4. 4. 4.]\n",
      "   [4. 4. 4.]\n",
      "   [4. 4. 4.]\n",
      "   ...\n",
      "   [4. 4. 4.]\n",
      "   [4. 4. 4.]\n",
      "   [4. 4. 4.]]]]\n",
      "(9, 7, 3)\n",
      "[[[4. 4. 4.]\n",
      "  [4. 4. 4.]\n",
      "  [4. 4. 4.]\n",
      "  [4. 4. 4.]\n",
      "  [4. 4. 4.]\n",
      "  [4. 4. 4.]\n",
      "  [4. 4. 4.]]\n",
      "\n",
      " [[4. 4. 4.]\n",
      "  [4. 4. 4.]\n",
      "  [4. 4. 4.]\n",
      "  [4. 4. 4.]\n",
      "  [4. 4. 4.]\n",
      "  [4. 4. 4.]\n",
      "  [4. 4. 4.]]\n",
      "\n",
      " [[4. 4. 4.]\n",
      "  [4. 4. 4.]\n",
      "  [4. 4. 4.]\n",
      "  [4. 4. 4.]\n",
      "  [4. 4. 4.]\n",
      "  [4. 4. 4.]\n",
      "  [4. 4. 4.]]\n",
      "\n",
      " [[4. 4. 4.]\n",
      "  [4. 4. 4.]\n",
      "  [4. 4. 4.]\n",
      "  [4. 4. 4.]\n",
      "  [4. 4. 4.]\n",
      "  [4. 4. 4.]\n",
      "  [4. 4. 4.]]\n",
      "\n",
      " [[4. 4. 4.]\n",
      "  [4. 4. 4.]\n",
      "  [4. 4. 4.]\n",
      "  [4. 4. 4.]\n",
      "  [4. 4. 4.]\n",
      "  [4. 4. 4.]\n",
      "  [4. 4. 4.]]\n",
      "\n",
      " [[4. 4. 4.]\n",
      "  [4. 4. 4.]\n",
      "  [4. 4. 4.]\n",
      "  [4. 4. 4.]\n",
      "  [4. 4. 4.]\n",
      "  [4. 4. 4.]\n",
      "  [4. 4. 4.]]\n",
      "\n",
      " [[4. 4. 4.]\n",
      "  [4. 4. 4.]\n",
      "  [4. 4. 4.]\n",
      "  [4. 4. 4.]\n",
      "  [4. 4. 4.]\n",
      "  [4. 4. 4.]\n",
      "  [4. 4. 4.]]\n",
      "\n",
      " [[4. 4. 4.]\n",
      "  [4. 4. 4.]\n",
      "  [4. 4. 4.]\n",
      "  [4. 4. 4.]\n",
      "  [4. 4. 4.]\n",
      "  [4. 4. 4.]\n",
      "  [4. 4. 4.]]\n",
      "\n",
      " [[4. 4. 4.]\n",
      "  [4. 4. 4.]\n",
      "  [4. 4. 4.]\n",
      "  [4. 4. 4.]\n",
      "  [4. 4. 4.]\n",
      "  [4. 4. 4.]\n",
      "  [4. 4. 4.]]]\n"
     ]
    }
   ],
   "source": [
    "a = np.ones([9, 7, 4])\n",
    "b = np.ones([9, 4, 3])\n",
    "c = np.dot(a, b)\n",
    "print(c.shape)\n",
    "print(c)\n",
    "d = np.matmul(a, b)\n",
    "print(d.shape)\n",
    "print(d)"
   ]
  },
  {
   "cell_type": "code",
   "execution_count": 20,
   "metadata": {
    "execution": {
     "iopub.execute_input": "2022-09-07T12:21:33.888364Z",
     "iopub.status.busy": "2022-09-07T12:21:33.887423Z",
     "iopub.status.idle": "2022-09-07T12:21:33.898565Z",
     "shell.execute_reply": "2022-09-07T12:21:33.897665Z",
     "shell.execute_reply.started": "2022-09-07T12:21:33.888276Z"
    }
   },
   "outputs": [
    {
     "name": "stdout",
     "output_type": "stream",
     "text": [
      "[-1.1  0.  20.  -7.2]\n"
     ]
    }
   ],
   "source": [
    "a = np.array([-1.1, 0.0, 3.6, -7.2])\n",
    "# to do shallow copy\n",
    "b = a.copy()\n",
    "\n",
    "# to do deep copy\n",
    "b = a\n",
    "\n",
    "a[2] = 20.0\n",
    "print(b)"
   ]
  },
  {
   "cell_type": "code",
   "execution_count": 21,
   "metadata": {
    "execution": {
     "iopub.execute_input": "2022-09-07T12:21:33.900206Z",
     "iopub.status.busy": "2022-09-07T12:21:33.899723Z",
     "iopub.status.idle": "2022-09-07T12:21:33.912343Z",
     "shell.execute_reply": "2022-09-07T12:21:33.911388Z",
     "shell.execute_reply.started": "2022-09-07T12:21:33.900171Z"
    }
   },
   "outputs": [
    {
     "name": "stdout",
     "output_type": "stream",
     "text": [
      "[[0.1299821 ]\n",
      " [0.62896552]\n",
      " [0.90863941]\n",
      " [0.84709367]]\n"
     ]
    }
   ],
   "source": [
    "# Random vectors. Sometimes it is useful to generate random vectors to check our algorithm or test an identity. \n",
    "# In Python, we generate a random vector of size n using\n",
    "# np.random.random(n).\n",
    "print(np.random.random((4,1)))"
   ]
  },
  {
   "cell_type": "code",
   "execution_count": 22,
   "metadata": {
    "execution": {
     "iopub.execute_input": "2022-09-07T12:21:33.915549Z",
     "iopub.status.busy": "2022-09-07T12:21:33.914914Z",
     "iopub.status.idle": "2022-09-07T12:21:33.935487Z",
     "shell.execute_reply": "2022-09-07T12:21:33.934099Z",
     "shell.execute_reply.started": "2022-09-07T12:21:33.915509Z"
    }
   },
   "outputs": [
    {
     "name": "stdout",
     "output_type": "stream",
     "text": [
      "Sum of arrays: [101 202 303]\n",
      "Difference of arrays: [ -99 -198 -297]\n",
      "[2. 2. 2.]\n"
     ]
    }
   ],
   "source": [
    "# elementwise operations between 2 vectors\n",
    "a = np.array([1,2,3])\n",
    "b = np.array([100,200,300])\n",
    "print('Sum of arrays:', a + b)\n",
    "print('Difference of arrays:', a - b)\n",
    "\n",
    "a_initial = np.array([1, 2, 3])\n",
    "a_final = np.array([3, 6, 9])\n",
    "b = (a_final - a_initial) / a_initial\n",
    "print(b)"
   ]
  },
  {
   "cell_type": "code",
   "execution_count": 23,
   "metadata": {
    "execution": {
     "iopub.execute_input": "2022-09-07T12:21:33.937965Z",
     "iopub.status.busy": "2022-09-07T12:21:33.937432Z",
     "iopub.status.idle": "2022-09-07T12:21:33.951427Z",
     "shell.execute_reply": "2022-09-07T12:21:33.950237Z",
     "shell.execute_reply.started": "2022-09-07T12:21:33.937915Z"
    }
   },
   "outputs": [
    {
     "name": "stdout",
     "output_type": "stream",
     "text": [
      "[4. 5.]\n"
     ]
    }
   ],
   "source": [
    "# linear combination\n",
    "a = np.array([1, 2])\n",
    "b = np.array([3, 4])\n",
    "alpha = -0.5\n",
    "beta = 1.5\n",
    "c = alpha * a + beta * b\n",
    "print(c)"
   ]
  },
  {
   "cell_type": "code",
   "execution_count": 24,
   "metadata": {
    "execution": {
     "iopub.execute_input": "2022-09-07T12:21:33.954466Z",
     "iopub.status.busy": "2022-09-07T12:21:33.953309Z",
     "iopub.status.idle": "2022-09-07T12:21:33.973763Z",
     "shell.execute_reply": "2022-09-07T12:21:33.971664Z",
     "shell.execute_reply.started": "2022-09-07T12:21:33.954418Z"
    }
   },
   "outputs": [
    {
     "name": "stdout",
     "output_type": "stream",
     "text": [
      "0.03361153602600098\n"
     ]
    }
   ],
   "source": [
    "a = np.random.random(10**5)\n",
    "b = np.random.random(10**5)\n",
    "start = time.time()\n",
    "\n",
    "# @ function is matrix multiplication\n",
    "a @ b\n",
    "end = time.time()\n",
    "print(end - start)\n",
    "\n",
    "# Check Time Taken by a operations, this is measured in seconds"
   ]
  },
  {
   "cell_type": "code",
   "execution_count": 25,
   "metadata": {
    "execution": {
     "iopub.execute_input": "2022-09-07T12:21:33.989608Z",
     "iopub.status.busy": "2022-09-07T12:21:33.987962Z",
     "iopub.status.idle": "2022-09-07T12:21:34.013773Z",
     "shell.execute_reply": "2022-09-07T12:21:34.011477Z",
     "shell.execute_reply.started": "2022-09-07T12:21:33.989433Z"
    }
   },
   "outputs": [
    {
     "name": "stdout",
     "output_type": "stream",
     "text": [
      "3.0\n",
      "3.0\n",
      "3.0\n"
     ]
    }
   ],
   "source": [
    "# Different ways to calculate norm\n",
    "\n",
    "a = np.array([2,-1,2])\n",
    "print(np.linalg.norm(a))\n",
    "print(np.sqrt(np.inner(a, a)))\n",
    "print((sum(a**2)**0.5))"
   ]
  },
  {
   "cell_type": "code",
   "execution_count": 26,
   "metadata": {
    "execution": {
     "iopub.execute_input": "2022-09-07T12:21:34.026617Z",
     "iopub.status.busy": "2022-09-07T12:21:34.020645Z",
     "iopub.status.idle": "2022-09-07T12:21:34.041942Z",
     "shell.execute_reply": "2022-09-07T12:21:34.040470Z",
     "shell.execute_reply.started": "2022-09-07T12:21:34.026523Z"
    }
   },
   "outputs": [
    {
     "name": "stdout",
     "output_type": "stream",
     "text": [
      "LHS: 3.4763910894292525\n",
      "RHS: 3.7458273263159714\n"
     ]
    }
   ],
   "source": [
    "# Triangle Inequality\n",
    "\n",
    "a = np.random.random(10)\n",
    "b = np.random.random(10)\n",
    "LHS = np.linalg.norm(a + b)\n",
    "RHS = np.linalg.norm(a) + np.linalg.norm(b)\n",
    "print('LHS:', LHS)\n",
    "print('RHS:', RHS)"
   ]
  },
  {
   "cell_type": "code",
   "execution_count": 27,
   "metadata": {
    "execution": {
     "iopub.execute_input": "2022-09-07T12:21:34.045365Z",
     "iopub.status.busy": "2022-09-07T12:21:34.044108Z",
     "iopub.status.idle": "2022-09-07T12:21:34.055971Z",
     "shell.execute_reply": "2022-09-07T12:21:34.053855Z",
     "shell.execute_reply.started": "2022-09-07T12:21:34.045297Z"
    }
   },
   "outputs": [
    {
     "name": "stdout",
     "output_type": "stream",
     "text": [
      "8.367795408588812\n"
     ]
    }
   ],
   "source": [
    "# Distance (way to calculate distance between 2 points)\n",
    "\n",
    "a = np.array([1.8, 2.0, -3.7, 4.7])\n",
    "b = np.array([0.6, 2.1, 1.9, -1.4])\n",
    "\n",
    "print(np.linalg.norm(a - b))"
   ]
  },
  {
   "cell_type": "code",
   "execution_count": 28,
   "metadata": {
    "execution": {
     "iopub.execute_input": "2022-09-07T12:21:34.059641Z",
     "iopub.status.busy": "2022-09-07T12:21:34.057961Z",
     "iopub.status.idle": "2022-09-07T12:21:34.070269Z",
     "shell.execute_reply": "2022-09-07T12:21:34.069049Z",
     "shell.execute_reply.started": "2022-09-07T12:21:34.059583Z"
    }
   },
   "outputs": [
    {
     "name": "stdout",
     "output_type": "stream",
     "text": [
      "0.27183281571122164\n",
      "0.2718328157112217\n"
     ]
    }
   ],
   "source": [
    "# Way to calculate Standard Deviation\n",
    "\n",
    "a = np.random.random(100)\n",
    "stdev = lambda x: np.linalg.norm(x - sum(x)/len(x))/(len(x)**0.5)\n",
    "print(stdev(a))\n",
    "\n",
    "# Other way\n",
    "print(np.std(a))"
   ]
  },
  {
   "cell_type": "code",
   "execution_count": 29,
   "metadata": {
    "execution": {
     "iopub.execute_input": "2022-09-07T12:21:34.073839Z",
     "iopub.status.busy": "2022-09-07T12:21:34.072320Z",
     "iopub.status.idle": "2022-09-07T12:21:34.086289Z",
     "shell.execute_reply": "2022-09-07T12:21:34.085097Z",
     "shell.execute_reply.started": "2022-09-07T12:21:34.073783Z"
    }
   },
   "outputs": [],
   "source": [
    "def gram_schmidt(a):\n",
    "    q = []\n",
    "    for i in range(len(a)):\n",
    "        \n",
    "        #orthogonalization\n",
    "        q_tilde = a[i]\n",
    "        for j in range(len(q)):\n",
    "            q_tilde = q_tilde - (q[j] @ a[i])*q[j]\n",
    "        \n",
    "        #Test for dependennce\n",
    "        if np.sqrt(sum(q_tilde**2)) <= 1e-10:\n",
    "            print('Vectors are linearly dependent.')\n",
    "            print('GS algorithm terminates at iteration ', i+1)\n",
    "            return q\n",
    "        \n",
    "        #Normalization\n",
    "        else:\n",
    "            q_tilde = q_tilde / np.sqrt(sum(q_tilde**2))\n",
    "            q.append(q_tilde)\n",
    "    print('Vectors are linearly independent.')\n",
    "    return q"
   ]
  },
  {
   "cell_type": "code",
   "execution_count": 30,
   "metadata": {
    "execution": {
     "iopub.execute_input": "2022-09-07T12:21:34.090465Z",
     "iopub.status.busy": "2022-09-07T12:21:34.087756Z",
     "iopub.status.idle": "2022-09-07T12:21:34.107609Z",
     "shell.execute_reply": "2022-09-07T12:21:34.106433Z",
     "shell.execute_reply.started": "2022-09-07T12:21:34.090405Z"
    }
   },
   "outputs": [
    {
     "name": "stdout",
     "output_type": "stream",
     "text": [
      "Vectors are linearly independent.\n",
      "[array([-0.5,  0.5, -0.5,  0.5]), array([0.5, 0.5, 0.5, 0.5]), array([-0.5, -0.5,  0.5,  0.5])]\n",
      "Norm of q[0] : 1.0\n",
      "Inner product of q[0] and q[1] : 0.0\n",
      "Inner product of q[0] and q[2] : 0.0\n",
      "Norm of q[1] : 1.0\n",
      "Inner product of q[1] and q[2] : 0.0\n",
      "Norm of q[2] : 1.0\n"
     ]
    }
   ],
   "source": [
    "a = np.array([ [-1, 1, -1, 1], [-1, 3, -1, 3], [1, 3, 5, 7] ])\n",
    "q = gram_schmidt(a)\n",
    "print(q)\n",
    "#Test orthonormality\n",
    "print('Norm of q[0] :', (sum(q[0]**2))**0.5)\n",
    "print('Inner product of q[0] and q[1] :', q[0] @ q[1])\n",
    "print('Inner product of q[0] and q[2] :', q[0] @ q[2])\n",
    "print('Norm of q[1] :', (sum(q[1]**2))**0.5)\n",
    "print('Inner product of q[1] and q[2] :', q[1] @ q[2])\n",
    "print('Norm of q[2] :', (sum(q[2]**2))**0.5)"
   ]
  },
  {
   "cell_type": "code",
   "execution_count": 31,
   "metadata": {
    "execution": {
     "iopub.execute_input": "2022-09-07T12:21:34.110101Z",
     "iopub.status.busy": "2022-09-07T12:21:34.108863Z",
     "iopub.status.idle": "2022-09-07T12:21:34.120864Z",
     "shell.execute_reply": "2022-09-07T12:21:34.119829Z",
     "shell.execute_reply.started": "2022-09-07T12:21:34.110060Z"
    }
   },
   "outputs": [
    {
     "name": "stdout",
     "output_type": "stream",
     "text": [
      "Vectors are linearly dependent.\n",
      "GS algorithm terminates at iteration  3\n",
      "[array([-0.5,  0.5, -0.5,  0.5]), array([0.5, 0.5, 0.5, 0.5])]\n"
     ]
    }
   ],
   "source": [
    "b = np.array([a[0], a[1], 1.3*a[0] + 0.5*a[1]])\n",
    "q = gram_schmidt(b)\n",
    "print(q)"
   ]
  },
  {
   "cell_type": "code",
   "execution_count": 32,
   "metadata": {
    "execution": {
     "iopub.execute_input": "2022-09-07T12:21:34.123190Z",
     "iopub.status.busy": "2022-09-07T12:21:34.122271Z",
     "iopub.status.idle": "2022-09-07T12:21:34.134864Z",
     "shell.execute_reply": "2022-09-07T12:21:34.133825Z",
     "shell.execute_reply.started": "2022-09-07T12:21:34.123153Z"
    }
   },
   "outputs": [
    {
     "name": "stdout",
     "output_type": "stream",
     "text": [
      "Vectors are linearly independent.\n",
      "[[-0.03819298 -0.34442286  0.76535286 -0.24976653]\n",
      " [ 0.02399762 -0.42501014 -0.61101292 -0.11285342]\n",
      " [ 0.6692601   0.61635373  0.02957015 -0.18538541]\n",
      " [ 0.34174302 -0.19537829 -0.04230691  0.47385741]\n",
      " [-0.46983618  0.40988059  0.08883799  0.61803454]\n",
      " [ 0.46100109 -0.3386334   0.17418883  0.53292166]] [[ 2.36820661e+00 -4.68197130e-02  1.73490549e+00  1.66943131e-01]\n",
      " [-3.33066907e-16  7.81443844e-01  2.59258609e-01 -5.38178738e-01]\n",
      " [ 1.24900090e-16 -1.11022302e-16  2.17801548e+00  4.71426194e-01]\n",
      " [ 0.00000000e+00  5.55111512e-17  2.22044605e-16  9.06239401e-01]]\n"
     ]
    }
   ],
   "source": [
    "def QR_factorization(A):\n",
    "    Q_transpose = np.array(gram_schmidt(A.T))\n",
    "    R = Q_transpose @ A\n",
    "    Q = Q_transpose.T\n",
    "    return Q, R\n",
    "\n",
    "Q, R = QR_factorization(np.random.normal(size = (6,4)))\n",
    "print(Q, R)"
   ]
  }
 ],
 "metadata": {
  "kernelspec": {
   "display_name": "Python 3 (ipykernel)",
   "language": "python",
   "name": "python3"
  },
  "language_info": {
   "codemirror_mode": {
    "name": "ipython",
    "version": 3
   },
   "file_extension": ".py",
   "mimetype": "text/x-python",
   "name": "python",
   "nbconvert_exporter": "python",
   "pygments_lexer": "ipython3",
   "version": "3.9.12"
  }
 },
 "nbformat": 4,
 "nbformat_minor": 4
}
